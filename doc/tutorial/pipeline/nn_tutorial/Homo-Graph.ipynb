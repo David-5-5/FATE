{
 "cells": [
  {
   "cell_type": "markdown",
   "metadata": {},
   "source": [
    "# Homo-Graph Customized Model"
   ]
  },
  {
   "cell_type": "markdown",
   "metadata": {},
   "source": [
    "In FATE 1.10, we integrated Torch-geometric 2.2 into the FATE framework with which you can build Graph Neural Networks (GNN) in a homo federated way. Homo-graph is an extension of the customized model, but there are some differences in terms of input data and trainer."
   ]
  },
  {
   "cell_type": "markdown",
   "metadata": {},
   "source": [
    "## Install Torch-geometric"
   ]
  },
  {
   "cell_type": "markdown",
   "metadata": {},
   "source": [
    "For the installation please refer to [torch-geometric web site](https://pytorch-geometric.readthedocs.io/en/latest/notes/installation.html), or run the following bash command in your terminal for quick installation.\n",
    "\n",
    "pip install pyg-lib torch-scatter torch-sparse torch-cluster torch-spline-conv torch-geometric -f https://data.pyg.org/whl/torch-1.13.0+cpu.html"
   ]
  },
  {
   "cell_type": "markdown",
   "metadata": {},
   "source": [
    "## Cora Dataset"
   ]
  },
  {
   "cell_type": "markdown",
   "metadata": {},
   "source": [
    "Cora is a graph dataset for multiple node classification. It has 2708 nodes and 10k edges. Each node has 1433 features. \n",
    "\n",
    "In federated homo graph modeling, each party holds their own graph dataset with the same features, i.e. horizontal federation. The nodes in the two graphs may not overlap and the parties do not exchange any information about their graph datasets duraing modeling.\n",
    "\n",
    "For simplicity, the host and the guest in the demo have the same Cora dataset. The train/validation/test is divided in the following way:\n",
    "\n",
    "train: [0:140]\n",
    "validation: [200:500]\n",
    "test: [500:1500]\n",
    "\n",
    "The preprocessed data can be find in examples/data/cora4fate.\n"
   ]
  },
  {
   "cell_type": "markdown",
   "metadata": {},
   "source": [
    "## Upload data\n",
    "\n",
    "cd {FATE project}/examples/pipeline/upload\n",
    "python pipeline-upload-graph-cora.py {FATE project}/examples/data\n",
    "\n"
   ]
  },
  {
   "cell_type": "markdown",
   "metadata": {},
   "source": [
    "## GraphSage Model\n",
    "\n",
    "Name the model code as homegraphsage.py. You can put it directly under federatedml/nn/model_zoo or use the shortcut interface of jupyter notebook to save it directly to federatedml/nn/model_zoo"
   ]
  },
  {
   "cell_type": "code",
   "execution_count": null,
   "metadata": {},
   "outputs": [],
   "source": [
    "from pipeline.component.nn import save_to_fate"
   ]
  },
  {
   "cell_type": "code",
   "execution_count": null,
   "metadata": {},
   "outputs": [],
   "source": [
    "%%save_to_fate model graphsage.py\n",
    "\n",
    "import torch as t\n",
    "from torch import nn\n",
    "from torch.nn import Module\n",
    "import torch_geometric.nn as pyg\n",
    "\n",
    "\n",
    "class Sage(nn.Module):\n",
    "    def __init__(self, in_channels, hidden_channels, class_num):\n",
    "        super().__init__()\n",
    "        self.model = nn.ModuleList([\n",
    "            pyg.SAGEConv(in_channels=in_channels, out_channels=hidden_channels, project=True),\n",
    "            pyg.SAGEConv(in_channels=hidden_channels, out_channels=class_num),\n",
    "            nn.LogSoftmax()]\n",
    "        )\n",
    "\n",
    "    def forward(self, x, edge_index):\n",
    "        for i, conv in enumerate(self.model):\n",
    "            if isinstance(conv, pyg.SAGEConv):\n",
    "                x = conv(x, edge_index)\n",
    "            else:\n",
    "                x = conv(x)\n",
    "        return x "
   ]
  },
  {
   "cell_type": "code",
   "execution_count": null,
   "metadata": {},
   "outputs": [],
   "source": [
    "homosage = Sage(in_channels=1433, hidden_channels=64, class_num=7)\n",
    "homosage"
   ]
  },
  {
   "cell_type": "markdown",
   "metadata": {},
   "source": [
    "## Submit a Homo-NN task with Custom Model"
   ]
  },
  {
   "cell_type": "markdown",
   "metadata": {},
   "source": [
    "cd {FATE project}/examples/pipeline/homo_graph\n",
    "python pipeline_homo_graph_sage.py"
   ]
  }
 ],
 "metadata": {
  "interpreter": {
   "hash": "6014097d4fbe68b982926f809650a6d6f12d367fa066105c39b397ad90be87cf"
  },
  "kernelspec": {
   "display_name": "Python 3.8.8 ('venv': venv)",
   "language": "python",
   "name": "python3"
  },
  "language_info": {
   "codemirror_mode": {
    "name": "ipython",
    "version": 3
   },
   "file_extension": ".py",
   "mimetype": "text/x-python",
   "name": "python",
   "nbconvert_exporter": "python",
   "pygments_lexer": "ipython3",
   "version": "3.8.8"
  },
  "orig_nbformat": 4
 },
 "nbformat": 4,
 "nbformat_minor": 2
}
